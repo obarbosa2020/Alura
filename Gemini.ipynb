{
  "nbformat": 4,
  "nbformat_minor": 0,
  "metadata": {
    "colab": {
      "provenance": [],
      "toc_visible": true,
      "authorship_tag": "ABX9TyOz6cdPlJpDOCHONorPukX/",
      "include_colab_link": true
    },
    "kernelspec": {
      "name": "python3",
      "display_name": "Python 3"
    },
    "language_info": {
      "name": "python"
    }
  },
  "cells": [
    {
      "cell_type": "markdown",
      "metadata": {
        "id": "view-in-github",
        "colab_type": "text"
      },
      "source": [
        "<a href=\"https://colab.research.google.com/github/obarbosa2020/Alura/blob/main/Gemini.ipynb\" target=\"_parent\"><img src=\"https://colab.research.google.com/assets/colab-badge.svg\" alt=\"Open In Colab\"/></a>"
      ]
    },
    {
      "cell_type": "markdown",
      "source": [
        "Primeiro, vamos instalar o SDK do Gemini"
      ],
      "metadata": {
        "id": "jO07w0OoTn0w"
      }
    },
    {
      "cell_type": "code",
      "execution_count": 1,
      "metadata": {
        "colab": {
          "base_uri": "https://localhost:8080/"
        },
        "id": "6fpXPJynR4qe",
        "outputId": "4e3bdeee-be62-4ba7-9713-7a4c6e399f79"
      },
      "outputs": [
        {
          "output_type": "stream",
          "name": "stdout",
          "text": [
            "Requirement already satisfied: google-generativeai in /usr/local/lib/python3.10/dist-packages (0.5.2)\n",
            "Requirement already satisfied: google-ai-generativelanguage==0.6.2 in /usr/local/lib/python3.10/dist-packages (from google-generativeai) (0.6.2)\n",
            "Requirement already satisfied: google-api-core in /usr/local/lib/python3.10/dist-packages (from google-generativeai) (2.11.1)\n",
            "Requirement already satisfied: google-api-python-client in /usr/local/lib/python3.10/dist-packages (from google-generativeai) (2.84.0)\n",
            "Requirement already satisfied: google-auth>=2.15.0 in /usr/local/lib/python3.10/dist-packages (from google-generativeai) (2.27.0)\n",
            "Requirement already satisfied: protobuf in /usr/local/lib/python3.10/dist-packages (from google-generativeai) (3.20.3)\n",
            "Requirement already satisfied: pydantic in /usr/local/lib/python3.10/dist-packages (from google-generativeai) (2.7.1)\n",
            "Requirement already satisfied: tqdm in /usr/local/lib/python3.10/dist-packages (from google-generativeai) (4.66.4)\n",
            "Requirement already satisfied: typing-extensions in /usr/local/lib/python3.10/dist-packages (from google-generativeai) (4.11.0)\n",
            "Requirement already satisfied: proto-plus<2.0.0dev,>=1.22.3 in /usr/local/lib/python3.10/dist-packages (from google-ai-generativelanguage==0.6.2->google-generativeai) (1.23.0)\n",
            "Requirement already satisfied: cachetools<6.0,>=2.0.0 in /usr/local/lib/python3.10/dist-packages (from google-auth>=2.15.0->google-generativeai) (5.3.3)\n",
            "Requirement already satisfied: pyasn1-modules>=0.2.1 in /usr/local/lib/python3.10/dist-packages (from google-auth>=2.15.0->google-generativeai) (0.4.0)\n",
            "Requirement already satisfied: rsa<5,>=3.1.4 in /usr/local/lib/python3.10/dist-packages (from google-auth>=2.15.0->google-generativeai) (4.9)\n",
            "Requirement already satisfied: googleapis-common-protos<2.0.dev0,>=1.56.2 in /usr/local/lib/python3.10/dist-packages (from google-api-core->google-generativeai) (1.63.0)\n",
            "Requirement already satisfied: requests<3.0.0.dev0,>=2.18.0 in /usr/local/lib/python3.10/dist-packages (from google-api-core->google-generativeai) (2.31.0)\n",
            "Requirement already satisfied: httplib2<1dev,>=0.15.0 in /usr/local/lib/python3.10/dist-packages (from google-api-python-client->google-generativeai) (0.22.0)\n",
            "Requirement already satisfied: google-auth-httplib2>=0.1.0 in /usr/local/lib/python3.10/dist-packages (from google-api-python-client->google-generativeai) (0.1.1)\n",
            "Requirement already satisfied: uritemplate<5,>=3.0.1 in /usr/local/lib/python3.10/dist-packages (from google-api-python-client->google-generativeai) (4.1.1)\n",
            "Requirement already satisfied: annotated-types>=0.4.0 in /usr/local/lib/python3.10/dist-packages (from pydantic->google-generativeai) (0.6.0)\n",
            "Requirement already satisfied: pydantic-core==2.18.2 in /usr/local/lib/python3.10/dist-packages (from pydantic->google-generativeai) (2.18.2)\n",
            "Requirement already satisfied: grpcio<2.0dev,>=1.33.2 in /usr/local/lib/python3.10/dist-packages (from google-api-core->google-generativeai) (1.63.0)\n",
            "Requirement already satisfied: grpcio-status<2.0.dev0,>=1.33.2 in /usr/local/lib/python3.10/dist-packages (from google-api-core->google-generativeai) (1.48.2)\n",
            "Requirement already satisfied: pyparsing!=3.0.0,!=3.0.1,!=3.0.2,!=3.0.3,<4,>=2.4.2 in /usr/local/lib/python3.10/dist-packages (from httplib2<1dev,>=0.15.0->google-api-python-client->google-generativeai) (3.1.2)\n",
            "Requirement already satisfied: pyasn1<0.7.0,>=0.4.6 in /usr/local/lib/python3.10/dist-packages (from pyasn1-modules>=0.2.1->google-auth>=2.15.0->google-generativeai) (0.6.0)\n",
            "Requirement already satisfied: charset-normalizer<4,>=2 in /usr/local/lib/python3.10/dist-packages (from requests<3.0.0.dev0,>=2.18.0->google-api-core->google-generativeai) (3.3.2)\n",
            "Requirement already satisfied: idna<4,>=2.5 in /usr/local/lib/python3.10/dist-packages (from requests<3.0.0.dev0,>=2.18.0->google-api-core->google-generativeai) (3.7)\n",
            "Requirement already satisfied: urllib3<3,>=1.21.1 in /usr/local/lib/python3.10/dist-packages (from requests<3.0.0.dev0,>=2.18.0->google-api-core->google-generativeai) (2.0.7)\n",
            "Requirement already satisfied: certifi>=2017.4.17 in /usr/local/lib/python3.10/dist-packages (from requests<3.0.0.dev0,>=2.18.0->google-api-core->google-generativeai) (2024.2.2)\n"
          ]
        }
      ],
      "source": [
        "pip install google-generativeai"
      ]
    },
    {
      "cell_type": "markdown",
      "source": [
        "Agora vamos testar a IA"
      ],
      "metadata": {
        "id": "uEHJMtEIT-w8"
      }
    },
    {
      "cell_type": "code",
      "source": [
        "import google.generativeai as genai\n",
        "\n",
        "\n",
        "# Used to securely store your API key\n",
        "from google.colab import userdata\n",
        "\n",
        "GOOGLE_API_KEY=userdata.get('GOOGLE_API_KEY')\n",
        "genai.configure(api_key=GOOGLE_API_KEY)\n",
        "\n",
        "\n",
        "model = genai.GenerativeModel('gemini-pro')\n",
        "\n",
        "\n"
      ],
      "metadata": {
        "id": "QbHw5m6vT8pT"
      },
      "execution_count": 14,
      "outputs": []
    },
    {
      "cell_type": "markdown",
      "source": [
        "Listar os tipos de modelos existentes"
      ],
      "metadata": {
        "id": "ct9SfYWKT9zh"
      }
    },
    {
      "cell_type": "code",
      "source": [
        "\n",
        "for m in genai.list_models():\n",
        "  print(m.name)\n"
      ],
      "metadata": {
        "colab": {
          "base_uri": "https://localhost:8080/",
          "height": 249
        },
        "id": "oESzZUTScEBI",
        "outputId": "c9afb45b-10d3-4161-d329-2df5a7c4bda3"
      },
      "execution_count": 16,
      "outputs": [
        {
          "output_type": "stream",
          "name": "stdout",
          "text": [
            "models/chat-bison-001\n",
            "models/text-bison-001\n",
            "models/embedding-gecko-001\n",
            "models/gemini-1.0-pro\n",
            "models/gemini-1.0-pro-001\n",
            "models/gemini-1.0-pro-latest\n",
            "models/gemini-1.0-pro-vision-latest\n",
            "models/gemini-1.5-pro-latest\n",
            "models/gemini-pro\n",
            "models/gemini-pro-vision\n",
            "models/embedding-001\n",
            "models/text-embedding-004\n",
            "models/aqa\n"
          ]
        }
      ]
    },
    {
      "cell_type": "code",
      "source": [
        "\n",
        "model = genai.GenerativeModel('gemini-pro')\n",
        "chat=model.start_chat(history=[])"
      ],
      "metadata": {
        "id": "gEtyuYRact0z"
      },
      "execution_count": 44,
      "outputs": []
    },
    {
      "cell_type": "markdown",
      "source": [
        "Inicializando o modelo"
      ],
      "metadata": {
        "id": "xFG6U7wzeg6P"
      }
    },
    {
      "cell_type": "markdown",
      "source": [],
      "metadata": {
        "id": "bNlVpXIUf96a"
      }
    },
    {
      "cell_type": "code",
      "source": [
        "prompt=input(\">\")\n",
        "\n",
        "while prompt!=\"sair\":\n",
        "  response = chat.send_message(prompt)\n",
        "  print(response.text)\n",
        "  prompt=input(\">\")\n",
        "\n"
      ],
      "metadata": {
        "colab": {
          "base_uri": "https://localhost:8080/",
          "height": 323
        },
        "id": "YpFbV5dyegI3",
        "outputId": "d870d6e3-4056-4f94-e08c-3a58e9179ef1"
      },
      "execution_count": 46,
      "outputs": [
        {
          "name": "stdout",
          "output_type": "stream",
          "text": [
            ">oi\n",
            "Olá! Como posso ajudá-lo hoje?\n",
            ">estou triste\n",
            "Sinto muito saber que você está triste. Você gostaria de conversar sobre o que está acontecendo? Estou aqui para ouvir e tentar ajudar de qualquer maneira que puder.\n",
            ">como posso ser feliz?\n",
            "Aqui estão algumas dicas sobre como ser feliz:\n",
            "\n",
            "* **Concentre-se no positivo:** Em vez de se concentrar nas coisas negativas da vida, tente se concentrar nas coisas positivas. Seja grato pelas coisas boas que você tem e tente encontrar alegria nas pequenas coisas.\n",
            "* **Passe tempo com pessoas que você ama:** Passar tempo com pessoas que você ama pode ajudá-lo a se sentir mais feliz e apoiado. Compartilhe atividades que vocês dois apreciam e conversem sobre coisas que os fazem felizes.\n",
            "* **Faça algo que você goste:** Quando você faz algo de que gosta, seu cérebro libera dopamina, uma substância química que o faz sentir bem. Encontre uma atividade que você goste e dedique algum tempo a ela regularmente.\n",
            "* **Ajude os outros:** Ajudar os outros pode fazer você se sentir bem consigo mesmo e com o mundo. Seja voluntário para uma causa que você se preocupa ou simplesmente faça um gesto gentil para alguém que você conhece.\n",
            "* **Cuide da sua saúde física:** Comer alimentos saudáveis, dormir o suficiente e fazer exercícios regularmente pode melhorar seu humor e sua saúde geral.\n",
            "* **Pratique a atenção plena:** A atenção plena pode ajudá-lo a se concentrar no momento presente e apreciar as coisas boas da vida. Tente meditar por alguns minutos todos os dias ou simplesmente preste atenção ao seu redor e às coisas que o fazem feliz.\n",
            ">fim\n",
            "Obrigado por conversar comigo. Lamento saber que você está triste e espero que você se sinta melhor em breve. Lembre-se de que você não está sozinho e que existem pessoas que se preocupam com você. Se precisar conversar novamente, estarei aqui para ouvir.\n",
            ">sair\n"
          ]
        }
      ]
    },
    {
      "cell_type": "markdown",
      "source": [
        "vamos testar o resultado de uma pergunta"
      ],
      "metadata": {
        "id": "q9V8PA6Ehe0o"
      }
    },
    {
      "cell_type": "code",
      "source": [
        "import textwrap\n",
        "from IPython.display import display\n",
        "from IPython.display import Markdown\n",
        "\n",
        "def to_markdown(text):\n",
        "  text=text.replace('*', '  *')\n",
        "  return Markdown(textwrap.indent(text, '> ',predicate=lambda _: True))\n",
        "\n",
        "for message in chat.history:\n",
        "  display(to_markdown(f'**{message.role}**: {message.parts[0].text}'))\n",
        "  print('---------------------------------')"
      ],
      "metadata": {
        "colab": {
          "base_uri": "https://localhost:8080/",
          "height": 906
        },
        "id": "J6QtTQa7heXj",
        "outputId": "1f845b87-5fb6-4bef-f61e-bf5cc2437c9f"
      },
      "execution_count": 47,
      "outputs": [
        {
          "output_type": "display_data",
          "data": {
            "text/plain": [
              "<IPython.core.display.Markdown object>"
            ],
            "text/markdown": ">   *  *user  *  *: oi"
          },
          "metadata": {}
        },
        {
          "output_type": "stream",
          "name": "stdout",
          "text": [
            "---------------------------------\n"
          ]
        },
        {
          "output_type": "display_data",
          "data": {
            "text/plain": [
              "<IPython.core.display.Markdown object>"
            ],
            "text/markdown": ">   *  *model  *  *: Olá! Como posso ajudá-lo hoje?"
          },
          "metadata": {}
        },
        {
          "output_type": "stream",
          "name": "stdout",
          "text": [
            "---------------------------------\n"
          ]
        },
        {
          "output_type": "display_data",
          "data": {
            "text/plain": [
              "<IPython.core.display.Markdown object>"
            ],
            "text/markdown": ">   *  *user  *  *: estou triste"
          },
          "metadata": {}
        },
        {
          "output_type": "stream",
          "name": "stdout",
          "text": [
            "---------------------------------\n"
          ]
        },
        {
          "output_type": "display_data",
          "data": {
            "text/plain": [
              "<IPython.core.display.Markdown object>"
            ],
            "text/markdown": ">   *  *model  *  *: Sinto muito saber que você está triste. Você gostaria de conversar sobre o que está acontecendo? Estou aqui para ouvir e tentar ajudar de qualquer maneira que puder."
          },
          "metadata": {}
        },
        {
          "output_type": "stream",
          "name": "stdout",
          "text": [
            "---------------------------------\n"
          ]
        },
        {
          "output_type": "display_data",
          "data": {
            "text/plain": [
              "<IPython.core.display.Markdown object>"
            ],
            "text/markdown": ">   *  *user  *  *: como posso ser feliz?"
          },
          "metadata": {}
        },
        {
          "output_type": "stream",
          "name": "stdout",
          "text": [
            "---------------------------------\n"
          ]
        },
        {
          "output_type": "display_data",
          "data": {
            "text/plain": [
              "<IPython.core.display.Markdown object>"
            ],
            "text/markdown": ">   *  *model  *  *: Aqui estão algumas dicas sobre como ser feliz:\n> \n>   *   *  *Concentre-se no positivo:  *  * Em vez de se concentrar nas coisas negativas da vida, tente se concentrar nas coisas positivas. Seja grato pelas coisas boas que você tem e tente encontrar alegria nas pequenas coisas.\n>   *   *  *Passe tempo com pessoas que você ama:  *  * Passar tempo com pessoas que você ama pode ajudá-lo a se sentir mais feliz e apoiado. Compartilhe atividades que vocês dois apreciam e conversem sobre coisas que os fazem felizes.\n>   *   *  *Faça algo que você goste:  *  * Quando você faz algo de que gosta, seu cérebro libera dopamina, uma substância química que o faz sentir bem. Encontre uma atividade que você goste e dedique algum tempo a ela regularmente.\n>   *   *  *Ajude os outros:  *  * Ajudar os outros pode fazer você se sentir bem consigo mesmo e com o mundo. Seja voluntário para uma causa que você se preocupa ou simplesmente faça um gesto gentil para alguém que você conhece.\n>   *   *  *Cuide da sua saúde física:  *  * Comer alimentos saudáveis, dormir o suficiente e fazer exercícios regularmente pode melhorar seu humor e sua saúde geral.\n>   *   *  *Pratique a atenção plena:  *  * A atenção plena pode ajudá-lo a se concentrar no momento presente e apreciar as coisas boas da vida. Tente meditar por alguns minutos todos os dias ou simplesmente preste atenção ao seu redor e às coisas que o fazem feliz."
          },
          "metadata": {}
        },
        {
          "output_type": "stream",
          "name": "stdout",
          "text": [
            "---------------------------------\n"
          ]
        },
        {
          "output_type": "display_data",
          "data": {
            "text/plain": [
              "<IPython.core.display.Markdown object>"
            ],
            "text/markdown": ">   *  *user  *  *: fim"
          },
          "metadata": {}
        },
        {
          "output_type": "stream",
          "name": "stdout",
          "text": [
            "---------------------------------\n"
          ]
        },
        {
          "output_type": "display_data",
          "data": {
            "text/plain": [
              "<IPython.core.display.Markdown object>"
            ],
            "text/markdown": ">   *  *model  *  *: Obrigado por conversar comigo. Lamento saber que você está triste e espero que você se sinta melhor em breve. Lembre-se de que você não está sozinho e que existem pessoas que se preocupam com você. Se precisar conversar novamente, estarei aqui para ouvir."
          },
          "metadata": {}
        },
        {
          "output_type": "stream",
          "name": "stdout",
          "text": [
            "---------------------------------\n"
          ]
        }
      ]
    },
    {
      "cell_type": "markdown",
      "source": [],
      "metadata": {
        "id": "1t52iH6HefrC"
      }
    }
  ]
}